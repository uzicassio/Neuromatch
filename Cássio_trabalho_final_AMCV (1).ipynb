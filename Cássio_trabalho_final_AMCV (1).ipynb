{
  "nbformat": 4,
  "nbformat_minor": 0,
  "metadata": {
    "colab": {
      "provenance": []
    },
    "kernelspec": {
      "name": "python3",
      "display_name": "Python 3"
    },
    "language_info": {
      "name": "python"
    }
  },
  "cells": [
    {
      "cell_type": "code",
      "execution_count": 320,
      "metadata": {
        "id": "B7KlR2RksOc0"
      },
      "outputs": [],
      "source": [
        "%matplotlib inline\n",
        "import pandas as pd\n",
        "import numpy as np\n",
        "import pandas_profiling as pp\n",
        "\n",
        "#modelos de selecção e tratamento dos dados\n",
        "from sklearn.model_selection import train_test_split\n",
        "from sklearn.preprocessing import PowerTransformer\n",
        "from sklearn.preprocessing import StandardScaler\n",
        "from sklearn.preprocessing import MinMaxScaler\n",
        "\n",
        "#modelos de machinelearning usados\n",
        "from sklearn.linear_model import LogisticRegression\n",
        "from sklearn.tree import DecisionTreeClassifier\n",
        "#plot da matrix de cunfusão\n",
        "from sklearn.metrics import classification_report, confusion_matrix\n",
        "\n",
        "\n",
        "import seaborn as sns\n",
        "sns.set_style('whitegrid')\n",
        "import matplotlib.pyplot as plt\n",
        "import warnings\n",
        "warnings.filterwarnings('ignore')\n",
        "\n",
        "import os\n",
        "\n",
        "#download do dataset: https://www.kaggle.com/datasets/kandij/diabetes-dataset"
      ]
    },
    {
      "cell_type": "code",
      "source": [
        "df = pd.read_csv('diabetes2.csv')"
      ],
      "metadata": {
        "id": "BKpzJLjmutN1"
      },
      "execution_count": 321,
      "outputs": []
    },
    {
      "cell_type": "code",
      "source": [
        "df.info()"
      ],
      "metadata": {
        "colab": {
          "base_uri": "https://localhost:8080/"
        },
        "id": "WlVsfHM-uz6-",
        "outputId": "0c2e4072-902c-4eb9-a248-5cd6def3a50f"
      },
      "execution_count": 322,
      "outputs": [
        {
          "output_type": "stream",
          "name": "stdout",
          "text": [
            "<class 'pandas.core.frame.DataFrame'>\n",
            "RangeIndex: 768 entries, 0 to 767\n",
            "Data columns (total 9 columns):\n",
            " #   Column                    Non-Null Count  Dtype  \n",
            "---  ------                    --------------  -----  \n",
            " 0   Pregnancies               768 non-null    int64  \n",
            " 1   Glucose                   768 non-null    int64  \n",
            " 2   BloodPressure             768 non-null    int64  \n",
            " 3   SkinThickness             768 non-null    int64  \n",
            " 4   Insulin                   768 non-null    int64  \n",
            " 5   BMI                       768 non-null    float64\n",
            " 6   DiabetesPedigreeFunction  768 non-null    float64\n",
            " 7   Age                       768 non-null    int64  \n",
            " 8   Outcome                   768 non-null    int64  \n",
            "dtypes: float64(2), int64(7)\n",
            "memory usage: 54.1 KB\n"
          ]
        }
      ]
    },
    {
      "cell_type": "code",
      "source": [
        "df.isnull().sum()"
      ],
      "metadata": {
        "colab": {
          "base_uri": "https://localhost:8080/"
        },
        "id": "as8X_ybru4Oe",
        "outputId": "a17bf048-c610-4148-b980-af96c6d92499"
      },
      "execution_count": 323,
      "outputs": [
        {
          "output_type": "execute_result",
          "data": {
            "text/plain": [
              "Pregnancies                 0\n",
              "Glucose                     0\n",
              "BloodPressure               0\n",
              "SkinThickness               0\n",
              "Insulin                     0\n",
              "BMI                         0\n",
              "DiabetesPedigreeFunction    0\n",
              "Age                         0\n",
              "Outcome                     0\n",
              "dtype: int64"
            ]
          },
          "metadata": {},
          "execution_count": 323
        }
      ]
    },
    {
      "cell_type": "code",
      "source": [
        "df.shape"
      ],
      "metadata": {
        "colab": {
          "base_uri": "https://localhost:8080/"
        },
        "id": "3UcYnP1Eu51t",
        "outputId": "30de2776-5a25-419f-f311-23a8f8da0f58"
      },
      "execution_count": 324,
      "outputs": [
        {
          "output_type": "execute_result",
          "data": {
            "text/plain": [
              "(768, 9)"
            ]
          },
          "metadata": {},
          "execution_count": 324
        }
      ]
    },
    {
      "cell_type": "code",
      "source": [
        "sns.histplot(x=df['Outcome'], hue= df['Outcome'])\n",
        "plt.show()"
      ],
      "metadata": {
        "colab": {
          "base_uri": "https://localhost:8080/",
          "height": 279
        },
        "id": "hAqShd43vkYV",
        "outputId": "924a7aae-1a90-4b7b-a2ca-d6259d6603e0"
      },
      "execution_count": 325,
      "outputs": [
        {
          "output_type": "display_data",
          "data": {
            "text/plain": [
              "<Figure size 432x288 with 1 Axes>"
            ],
            "image/png": "[encoded data removed]"
          },
          "metadata": {}
        }
      ]
    },
    {
      "cell_type": "markdown",
      "source": [
        "Variáveis correlacionadas\n",
        "\n",
        "A pressão arterial está correlacionada com o IMC\n",
        "\n",
        "As Gravidez estão correlacionadas com a idade\n",
        "\n",
        "BloodPressure, SkinThinkness, Insulin não pode ser zero, eles devem ser preenchidos, logo foi preenchindo o valor médio das colunas para cada zero."
      ],
      "metadata": {
        "id": "VHudJZZzvuMt"
      }
    },
    {
      "cell_type": "markdown",
      "source": [
        "limpando os dados\n",
        "\n",
        "A insulina tem um grande número de zeros, portanto,será descartada a coluna."
      ],
      "metadata": {
        "id": "22q5bhfXxJBU"
      }
    },
    {
      "cell_type": "code",
      "source": [
        "#df.drop(['Insulin','Glucose','DiabetesPedigreeFunction'], axis =1, inplace = True)\n",
        "df.drop(['Insulin','DiabetesPedigreeFunction'], axis =1,inplace = True)\n",
        "#for i in ['BloodPressure','SkinThickness','Insulin']:\n",
        "for i in ['BloodPressure','SkinThickness']:\n",
        "    df[i].replace(0,np.nan,inplace =True)\n",
        "    df[i].fillna(df[i].mean(),inplace = True)"
      ],
      "metadata": {
        "id": "la67_wZvxmoV"
      },
      "execution_count": 326,
      "outputs": []
    },
    {
      "cell_type": "code",
      "source": [
        "df.skew()"
      ],
      "metadata": {
        "colab": {
          "base_uri": "https://localhost:8080/"
        },
        "id": "N3CPtZYixpqL",
        "outputId": "a34d370c-eb73-48c2-b484-a502150d896f"
      },
      "execution_count": 327,
      "outputs": [
        {
          "output_type": "execute_result",
          "data": {
            "text/plain": [
              "Pregnancies      0.901674\n",
              "Glucose          0.173754\n",
              "BloodPressure    0.137305\n",
              "SkinThickness    0.822173\n",
              "BMI             -0.428982\n",
              "Age              1.129597\n",
              "Outcome          0.635017\n",
              "dtype: float64"
            ]
          },
          "metadata": {},
          "execution_count": 327
        }
      ]
    },
    {
      "cell_type": "markdown",
      "source": [
        "alguns dos features estão distorcidos.\n"
      ],
      "metadata": {
        "id": "A2LT2SDRxzB7"
      }
    },
    {
      "cell_type": "markdown",
      "source": [
        "Aqui usamos 'yeo-johnson' porque ele pode lidar com os valores negativos e zero.\n",
        "\n",
        "divisão dos dados, em treino e test.\n",
        "\n",
        "foi utilizado alguns modelos nos mesmos conjuntos."
      ],
      "metadata": {
        "id": "Agk9oTgGyawj"
      }
    },
    {
      "cell_type": "code",
      "source": [
        "X = df.drop('Outcome', axis =1)\n",
        "y = df['Outcome']\n",
        "X_train, X_test, y_train, y_test = train_test_split(X, y, test_size=0.3, random_state=42)"
      ],
      "metadata": {
        "id": "iI_PWULuycBb"
      },
      "execution_count": 328,
      "outputs": []
    },
    {
      "cell_type": "code",
      "source": [
        "from sklearn.preprocessing import PowerTransformer\n",
        "from sklearn.preprocessing import StandardScaler\n",
        "\n",
        "pt = PowerTransformer(method = 'yeo-johnson')\n",
        "#min_max = MinMaxScaler()\n",
        "std_scaler = StandardScaler()\n",
        "X_train = pd.DataFrame(data =std_scaler.fit_transform(pt.fit_transform(X_train)),columns = X_train.columns)"
      ],
      "metadata": {
        "id": "_Pb4v1dXzbPy"
      },
      "execution_count": 329,
      "outputs": []
    },
    {
      "cell_type": "code",
      "source": [
        "df_pt= pd.merge(X_train,y_train,right_index= True,left_index= True)\n",
        "df_pt.describe()"
      ],
      "metadata": {
        "colab": {
          "base_uri": "https://localhost:8080/",
          "height": 300
        },
        "id": "fnUzwiBvzv5B",
        "outputId": "3388277f-a7a3-4b9d-e012-14b3f254df2c"
      },
      "execution_count": 330,
      "outputs": [
        {
          "output_type": "execute_result",
          "data": {
            "text/plain": [
              "       Pregnancies     Glucose  BloodPressure  SkinThickness         BMI  \\\n",
              "count   370.000000  370.000000     370.000000     370.000000  370.000000   \n",
              "mean      0.032235    0.023316       0.021919       0.008648    0.042889   \n",
              "std       0.972703    1.018311       0.992801       0.971193    0.987623   \n",
              "min      -1.606051   -3.660528      -3.382035      -2.681880   -3.718453   \n",
              "25%      -0.818641   -0.648671      -0.660252      -0.541543   -0.630958   \n",
              "50%       0.064067   -0.092035      -0.026613       0.073703   -0.010851   \n",
              "75%       0.854084    0.622345       0.632756       0.403720    0.624032   \n",
              "max       2.162908    2.436209       4.166075       3.696525    4.968874   \n",
              "\n",
              "              Age     Outcome  \n",
              "count  370.000000  370.000000  \n",
              "mean     0.023240    0.345946  \n",
              "std      0.992605    0.476320  \n",
              "min     -1.468399    0.000000  \n",
              "25%     -0.838257    0.000000  \n",
              "50%     -0.087096    0.000000  \n",
              "75%      0.942827    1.000000  \n",
              "max      2.105762    1.000000  "
            ],
            "text/html": [
              "\n",
              "  <div id=\"df-44ef4197-c8de-4e0b-8a9a-48e257045f51\">\n",
              "    <div class=\"colab-df-container\">\n",
              "      <div>\n",
              "<style scoped>\n",
              "    .dataframe tbody tr th:only-of-type {\n",
              "        vertical-align: middle;\n",
              "    }\n",
              "\n",
              "    .dataframe tbody tr th {\n",
              "        vertical-align: top;\n",
              "    }\n",
              "\n",
              "    .dataframe thead th {\n",
              "        text-align: right;\n",
              "    }\n",
              "</style>\n",
              "<table border=\"1\" class=\"dataframe\">\n",
              "  <thead>\n",
              "    <tr style=\"text-align: right;\">\n",
              "      <th></th>\n",
              "      <th>Pregnancies</th>\n",
              "      <th>Glucose</th>\n",
              "      <th>BloodPressure</th>\n",
              "      <th>SkinThickness</th>\n",
              "      <th>BMI</th>\n",
              "      <th>Age</th>\n",
              "      <th>Outcome</th>\n",
              "    </tr>\n",
              "  </thead>\n",
              "  <tbody>\n",
              "    <tr>\n",
              "      <th>count</th>\n",
              "      <td>370.000000</td>\n",
              "      <td>370.000000</td>\n",
              "      <td>370.000000</td>\n",
              "      <td>370.000000</td>\n",
              "      <td>370.000000</td>\n",
              "      <td>370.000000</td>\n",
              "      <td>370.000000</td>\n",
              "    </tr>\n",
              "    <tr>\n",
              "      <th>mean</th>\n",
              "      <td>0.032235</td>\n",
              "      <td>0.023316</td>\n",
              "      <td>0.021919</td>\n",
              "      <td>0.008648</td>\n",
              "      <td>0.042889</td>\n",
              "      <td>0.023240</td>\n",
              "      <td>0.345946</td>\n",
              "    </tr>\n",
              "    <tr>\n",
              "      <th>std</th>\n",
              "      <td>0.972703</td>\n",
              "      <td>1.018311</td>\n",
              "      <td>0.992801</td>\n",
              "      <td>0.971193</td>\n",
              "      <td>0.987623</td>\n",
              "      <td>0.992605</td>\n",
              "      <td>0.476320</td>\n",
              "    </tr>\n",
              "    <tr>\n",
              "      <th>min</th>\n",
              "      <td>-1.606051</td>\n",
              "      <td>-3.660528</td>\n",
              "      <td>-3.382035</td>\n",
              "      <td>-2.681880</td>\n",
              "      <td>-3.718453</td>\n",
              "      <td>-1.468399</td>\n",
              "      <td>0.000000</td>\n",
              "    </tr>\n",
              "    <tr>\n",
              "      <th>25%</th>\n",
              "      <td>-0.818641</td>\n",
              "      <td>-0.648671</td>\n",
              "      <td>-0.660252</td>\n",
              "      <td>-0.541543</td>\n",
              "      <td>-0.630958</td>\n",
              "      <td>-0.838257</td>\n",
              "      <td>0.000000</td>\n",
              "    </tr>\n",
              "    <tr>\n",
              "      <th>50%</th>\n",
              "      <td>0.064067</td>\n",
              "      <td>-0.092035</td>\n",
              "      <td>-0.026613</td>\n",
              "      <td>0.073703</td>\n",
              "      <td>-0.010851</td>\n",
              "      <td>-0.087096</td>\n",
              "      <td>0.000000</td>\n",
              "    </tr>\n",
              "    <tr>\n",
              "      <th>75%</th>\n",
              "      <td>0.854084</td>\n",
              "      <td>0.622345</td>\n",
              "      <td>0.632756</td>\n",
              "      <td>0.403720</td>\n",
              "      <td>0.624032</td>\n",
              "      <td>0.942827</td>\n",
              "      <td>1.000000</td>\n",
              "    </tr>\n",
              "    <tr>\n",
              "      <th>max</th>\n",
              "      <td>2.162908</td>\n",
              "      <td>2.436209</td>\n",
              "      <td>4.166075</td>\n",
              "      <td>3.696525</td>\n",
              "      <td>4.968874</td>\n",
              "      <td>2.105762</td>\n",
              "      <td>1.000000</td>\n",
              "    </tr>\n",
              "  </tbody>\n",
              "</table>\n",
              "</div>\n",
              "      <button class=\"colab-df-convert\" onclick=\"convertToInteractive('df-44ef4197-c8de-4e0b-8a9a-48e257045f51')\"\n",
              "              title=\"Convert this dataframe to an interactive table.\"\n",
              "              style=\"display:none;\">\n",
              "        \n",
              "  <svg xmlns=\"http://www.w3.org/2000/svg\" height=\"24px\"viewBox=\"0 0 24 24\"\n",
              "       width=\"24px\">\n",
              "    <path d=\"M0 0h24v24H0V0z\" fill=\"none\"/>\n",
              "    <path d=\"M18.56 5.44l.94 2.06.94-2.06 2.06-.94-2.06-.94-.94-2.06-.94 2.06-2.06.94zm-11 1L8.5 8.5l.94-2.06 2.06-.94-2.06-.94L8.5 2.5l-.94 2.06-2.06.94zm10 10l.94 2.06.94-2.06 2.06-.94-2.06-.94-.94-2.06-.94 2.06-2.06.94z\"/><path d=\"M17.41 7.96l-1.37-1.37c-.4-.4-.92-.59-1.43-.59-.52 0-1.04.2-1.43.59L10.3 9.45l-7.72 7.72c-.78.78-.78 2.05 0 2.83L4 21.41c.39.39.9.59 1.41.59.51 0 1.02-.2 1.41-.59l7.78-7.78 2.81-2.81c.8-.78.8-2.07 0-2.86zM5.41 20L4 18.59l7.72-7.72 1.47 1.35L5.41 20z\"/>\n",
              "  </svg>\n",
              "      </button>\n",
              "      \n",
              "  <style>\n",
              "    .colab-df-container {\n",
              "      display:flex;\n",
              "      flex-wrap:wrap;\n",
              "      gap: 12px;\n",
              "    }\n",
              "\n",
              "    .colab-df-convert {\n",
              "      background-color: #E8F0FE;\n",
              "      border: none;\n",
              "      border-radius: 50%;\n",
              "      cursor: pointer;\n",
              "      display: none;\n",
              "      fill: #1967D2;\n",
              "      height: 32px;\n",
              "      padding: 0 0 0 0;\n",
              "      width: 32px;\n",
              "    }\n",
              "\n",
              "    .colab-df-convert:hover {\n",
              "      background-color: #E2EBFA;\n",
              "      box-shadow: 0px 1px 2px rgba(60, 64, 67, 0.3), 0px 1px 3px 1px rgba(60, 64, 67, 0.15);\n",
              "      fill: #174EA6;\n",
              "    }\n",
              "\n",
              "    [theme=dark] .colab-df-convert {\n",
              "      background-color: #3B4455;\n",
              "      fill: #D2E3FC;\n",
              "    }\n",
              "\n",
              "    [theme=dark] .colab-df-convert:hover {\n",
              "      background-color: #434B5C;\n",
              "      box-shadow: 0px 1px 3px 1px rgba(0, 0, 0, 0.15);\n",
              "      filter: drop-shadow(0px 1px 2px rgba(0, 0, 0, 0.3));\n",
              "      fill: #FFFFFF;\n",
              "    }\n",
              "  </style>\n",
              "\n",
              "      <script>\n",
              "        const buttonEl =\n",
              "          document.querySelector('#df-44ef4197-c8de-4e0b-8a9a-48e257045f51 button.colab-df-convert');\n",
              "        buttonEl.style.display =\n",
              "          google.colab.kernel.accessAllowed ? 'block' : 'none';\n",
              "\n",
              "        async function convertToInteractive(key) {\n",
              "          const element = document.querySelector('#df-44ef4197-c8de-4e0b-8a9a-48e257045f51');\n",
              "          const dataTable =\n",
              "            await google.colab.kernel.invokeFunction('convertToInteractive',\n",
              "                                                     [key], {});\n",
              "          if (!dataTable) return;\n",
              "\n",
              "          const docLinkHtml = 'Like what you see? Visit the ' +\n",
              "            '<a target=\"_blank\" href=https://colab.research.google.com/notebooks/data_table.ipynb>data table notebook</a>'\n",
              "            + ' to learn more about interactive tables.';\n",
              "          element.innerHTML = '';\n",
              "          dataTable['output_type'] = 'display_data';\n",
              "          await google.colab.output.renderOutput(dataTable, element);\n",
              "          const docLink = document.createElement('div');\n",
              "          docLink.innerHTML = docLinkHtml;\n",
              "          element.appendChild(docLink);\n",
              "        }\n",
              "      </script>\n",
              "    </div>\n",
              "  </div>\n",
              "  "
            ]
          },
          "metadata": {},
          "execution_count": 330
        }
      ]
    },
    {
      "cell_type": "code",
      "source": [
        "X_test= pd.DataFrame(data =std_scaler.transform(pt.transform(X_test)),columns = X_test.columns)\n",
        "\n",
        "X_test.describe()"
      ],
      "metadata": {
        "colab": {
          "base_uri": "https://localhost:8080/",
          "height": 300
        },
        "id": "NbsYG6Ynz6xp",
        "outputId": "7f925aa9-0efd-40f4-c7b2-f974ce856fa2"
      },
      "execution_count": 331,
      "outputs": [
        {
          "output_type": "execute_result",
          "data": {
            "text/plain": [
              "       Pregnancies     Glucose  BloodPressure  SkinThickness         BMI  \\\n",
              "count   231.000000  231.000000     231.000000     231.000000  231.000000   \n",
              "mean      0.090225    0.004071       0.042596       0.137377    0.015391   \n",
              "std       1.050848    0.967368       0.976011       1.079367    1.082291   \n",
              "min      -1.606051   -1.845207      -2.129026      -2.835502   -3.718453   \n",
              "25%      -0.818641   -0.725788      -0.680611      -0.180400   -0.497787   \n",
              "50%       0.064067   -0.184968       0.006659       0.073703    0.075649   \n",
              "75%       1.053607    0.746903       0.467439       0.518184    0.627426   \n",
              "max       1.939237    2.373411       3.484963       7.104764    3.520738   \n",
              "\n",
              "              Age  \n",
              "count  231.000000  \n",
              "mean     0.047918  \n",
              "std      1.001702  \n",
              "min     -1.468399  \n",
              "25%     -0.838257  \n",
              "50%     -0.087096  \n",
              "75%      0.942827  \n",
              "max      1.865476  "
            ],
            "text/html": [
              "\n",
              "  <div id=\"df-9f088275-8cdc-4f38-b32c-387357105dee\">\n",
              "    <div class=\"colab-df-container\">\n",
              "      <div>\n",
              "<style scoped>\n",
              "    .dataframe tbody tr th:only-of-type {\n",
              "        vertical-align: middle;\n",
              "    }\n",
              "\n",
              "    .dataframe tbody tr th {\n",
              "        vertical-align: top;\n",
              "    }\n",
              "\n",
              "    .dataframe thead th {\n",
              "        text-align: right;\n",
              "    }\n",
              "</style>\n",
              "<table border=\"1\" class=\"dataframe\">\n",
              "  <thead>\n",
              "    <tr style=\"text-align: right;\">\n",
              "      <th></th>\n",
              "      <th>Pregnancies</th>\n",
              "      <th>Glucose</th>\n",
              "      <th>BloodPressure</th>\n",
              "      <th>SkinThickness</th>\n",
              "      <th>BMI</th>\n",
              "      <th>Age</th>\n",
              "    </tr>\n",
              "  </thead>\n",
              "  <tbody>\n",
              "    <tr>\n",
              "      <th>count</th>\n",
              "      <td>231.000000</td>\n",
              "      <td>231.000000</td>\n",
              "      <td>231.000000</td>\n",
              "      <td>231.000000</td>\n",
              "      <td>231.000000</td>\n",
              "      <td>231.000000</td>\n",
              "    </tr>\n",
              "    <tr>\n",
              "      <th>mean</th>\n",
              "      <td>0.090225</td>\n",
              "      <td>0.004071</td>\n",
              "      <td>0.042596</td>\n",
              "      <td>0.137377</td>\n",
              "      <td>0.015391</td>\n",
              "      <td>0.047918</td>\n",
              "    </tr>\n",
              "    <tr>\n",
              "      <th>std</th>\n",
              "      <td>1.050848</td>\n",
              "      <td>0.967368</td>\n",
              "      <td>0.976011</td>\n",
              "      <td>1.079367</td>\n",
              "      <td>1.082291</td>\n",
              "      <td>1.001702</td>\n",
              "    </tr>\n",
              "    <tr>\n",
              "      <th>min</th>\n",
              "      <td>-1.606051</td>\n",
              "      <td>-1.845207</td>\n",
              "      <td>-2.129026</td>\n",
              "      <td>-2.835502</td>\n",
              "      <td>-3.718453</td>\n",
              "      <td>-1.468399</td>\n",
              "    </tr>\n",
              "    <tr>\n",
              "      <th>25%</th>\n",
              "      <td>-0.818641</td>\n",
              "      <td>-0.725788</td>\n",
              "      <td>-0.680611</td>\n",
              "      <td>-0.180400</td>\n",
              "      <td>-0.497787</td>\n",
              "      <td>-0.838257</td>\n",
              "    </tr>\n",
              "    <tr>\n",
              "      <th>50%</th>\n",
              "      <td>0.064067</td>\n",
              "      <td>-0.184968</td>\n",
              "      <td>0.006659</td>\n",
              "      <td>0.073703</td>\n",
              "      <td>0.075649</td>\n",
              "      <td>-0.087096</td>\n",
              "    </tr>\n",
              "    <tr>\n",
              "      <th>75%</th>\n",
              "      <td>1.053607</td>\n",
              "      <td>0.746903</td>\n",
              "      <td>0.467439</td>\n",
              "      <td>0.518184</td>\n",
              "      <td>0.627426</td>\n",
              "      <td>0.942827</td>\n",
              "    </tr>\n",
              "    <tr>\n",
              "      <th>max</th>\n",
              "      <td>1.939237</td>\n",
              "      <td>2.373411</td>\n",
              "      <td>3.484963</td>\n",
              "      <td>7.104764</td>\n",
              "      <td>3.520738</td>\n",
              "      <td>1.865476</td>\n",
              "    </tr>\n",
              "  </tbody>\n",
              "</table>\n",
              "</div>\n",
              "      <button class=\"colab-df-convert\" onclick=\"convertToInteractive('df-9f088275-8cdc-4f38-b32c-387357105dee')\"\n",
              "              title=\"Convert this dataframe to an interactive table.\"\n",
              "              style=\"display:none;\">\n",
              "        \n",
              "  <svg xmlns=\"http://www.w3.org/2000/svg\" height=\"24px\"viewBox=\"0 0 24 24\"\n",
              "       width=\"24px\">\n",
              "    <path d=\"M0 0h24v24H0V0z\" fill=\"none\"/>\n",
              "    <path d=\"M18.56 5.44l.94 2.06.94-2.06 2.06-.94-2.06-.94-.94-2.06-.94 2.06-2.06.94zm-11 1L8.5 8.5l.94-2.06 2.06-.94-2.06-.94L8.5 2.5l-.94 2.06-2.06.94zm10 10l.94 2.06.94-2.06 2.06-.94-2.06-.94-.94-2.06-.94 2.06-2.06.94z\"/><path d=\"M17.41 7.96l-1.37-1.37c-.4-.4-.92-.59-1.43-.59-.52 0-1.04.2-1.43.59L10.3 9.45l-7.72 7.72c-.78.78-.78 2.05 0 2.83L4 21.41c.39.39.9.59 1.41.59.51 0 1.02-.2 1.41-.59l7.78-7.78 2.81-2.81c.8-.78.8-2.07 0-2.86zM5.41 20L4 18.59l7.72-7.72 1.47 1.35L5.41 20z\"/>\n",
              "  </svg>\n",
              "      </button>\n",
              "      \n",
              "  <style>\n",
              "    .colab-df-container {\n",
              "      display:flex;\n",
              "      flex-wrap:wrap;\n",
              "      gap: 12px;\n",
              "    }\n",
              "\n",
              "    .colab-df-convert {\n",
              "      background-color: #E8F0FE;\n",
              "      border: none;\n",
              "      border-radius: 50%;\n",
              "      cursor: pointer;\n",
              "      display: none;\n",
              "      fill: #1967D2;\n",
              "      height: 32px;\n",
              "      padding: 0 0 0 0;\n",
              "      width: 32px;\n",
              "    }\n",
              "\n",
              "    .colab-df-convert:hover {\n",
              "      background-color: #E2EBFA;\n",
              "      box-shadow: 0px 1px 2px rgba(60, 64, 67, 0.3), 0px 1px 3px 1px rgba(60, 64, 67, 0.15);\n",
              "      fill: #174EA6;\n",
              "    }\n",
              "\n",
              "    [theme=dark] .colab-df-convert {\n",
              "      background-color: #3B4455;\n",
              "      fill: #D2E3FC;\n",
              "    }\n",
              "\n",
              "    [theme=dark] .colab-df-convert:hover {\n",
              "      background-color: #434B5C;\n",
              "      box-shadow: 0px 1px 3px 1px rgba(0, 0, 0, 0.15);\n",
              "      filter: drop-shadow(0px 1px 2px rgba(0, 0, 0, 0.3));\n",
              "      fill: #FFFFFF;\n",
              "    }\n",
              "  </style>\n",
              "\n",
              "      <script>\n",
              "        const buttonEl =\n",
              "          document.querySelector('#df-9f088275-8cdc-4f38-b32c-387357105dee button.colab-df-convert');\n",
              "        buttonEl.style.display =\n",
              "          google.colab.kernel.accessAllowed ? 'block' : 'none';\n",
              "\n",
              "        async function convertToInteractive(key) {\n",
              "          const element = document.querySelector('#df-9f088275-8cdc-4f38-b32c-387357105dee');\n",
              "          const dataTable =\n",
              "            await google.colab.kernel.invokeFunction('convertToInteractive',\n",
              "                                                     [key], {});\n",
              "          if (!dataTable) return;\n",
              "\n",
              "          const docLinkHtml = 'Like what you see? Visit the ' +\n",
              "            '<a target=\"_blank\" href=https://colab.research.google.com/notebooks/data_table.ipynb>data table notebook</a>'\n",
              "            + ' to learn more about interactive tables.';\n",
              "          element.innerHTML = '';\n",
              "          dataTable['output_type'] = 'display_data';\n",
              "          await google.colab.output.renderOutput(dataTable, element);\n",
              "          const docLink = document.createElement('div');\n",
              "          docLink.innerHTML = docLinkHtml;\n",
              "          element.appendChild(docLink);\n",
              "        }\n",
              "      </script>\n",
              "    </div>\n",
              "  </div>\n",
              "  "
            ]
          },
          "metadata": {},
          "execution_count": 331
        }
      ]
    },
    {
      "cell_type": "code",
      "source": [
        "sns.heatmap(df.corr(),annot= True, cbar = False)"
      ],
      "metadata": {
        "colab": {
          "base_uri": "https://localhost:8080/",
          "height": 343
        },
        "id": "nqIG15JC0Ikq",
        "outputId": "4c918dbe-e945-4e8e-8145-e65391d2add5"
      },
      "execution_count": 332,
      "outputs": [
        {
          "output_type": "execute_result",
          "data": {
            "text/plain": [
              "<matplotlib.axes._subplots.AxesSubplot at 0x7f6ccdabde80>"
            ]
          },
          "metadata": {},
          "execution_count": 332
        },
        {
          "output_type": "display_data",
          "data": {
            "text/plain": [
              "<Figure size 432x288 with 1 Axes>"
            ],
            "image/png": "[encoded data removed]"
          },
          "metadata": {}
        }
      ]
    },
    {
      "cell_type": "markdown",
      "source": [
        "Divisão dos dados em treino e teste"
      ],
      "metadata": {
        "id": "0BP_0A-C7N0u"
      }
    },
    {
      "cell_type": "code",
      "source": [
        "df_mean_std_train = pd.DataFrame(data = [X_train.mean(), X_train.std()], columns = X_train.columns)\n",
        "df_mean_std_test = pd.DataFrame(data = [X_test.mean(), X_test.std()], columns = X_test.columns)\n",
        "df_mean_std_train"
      ],
      "metadata": {
        "colab": {
          "base_uri": "https://localhost:8080/",
          "height": 112
        },
        "id": "nW1XlRav0g35",
        "outputId": "2b492bd7-846a-4846-8f13-668a34726a80"
      },
      "execution_count": 334,
      "outputs": [
        {
          "output_type": "execute_result",
          "data": {
            "text/plain": [
              "    Pregnancies   Glucose  BloodPressure  SkinThickness           BMI  \\\n",
              "0 -2.646342e-17  0.000000  -3.307927e-18  -1.323171e-17  8.269818e-18   \n",
              "1  1.000932e+00  1.000932   1.000932e+00   1.000932e+00  1.000932e+00   \n",
              "\n",
              "            Age  \n",
              "0 -3.307927e-18  \n",
              "1  1.000932e+00  "
            ],
            "text/html": [
              "\n",
              "  <div id=\"df-7c388655-0420-43ad-9d0a-e2cd13941503\">\n",
              "    <div class=\"colab-df-container\">\n",
              "      <div>\n",
              "<style scoped>\n",
              "    .dataframe tbody tr th:only-of-type {\n",
              "        vertical-align: middle;\n",
              "    }\n",
              "\n",
              "    .dataframe tbody tr th {\n",
              "        vertical-align: top;\n",
              "    }\n",
              "\n",
              "    .dataframe thead th {\n",
              "        text-align: right;\n",
              "    }\n",
              "</style>\n",
              "<table border=\"1\" class=\"dataframe\">\n",
              "  <thead>\n",
              "    <tr style=\"text-align: right;\">\n",
              "      <th></th>\n",
              "      <th>Pregnancies</th>\n",
              "      <th>Glucose</th>\n",
              "      <th>BloodPressure</th>\n",
              "      <th>SkinThickness</th>\n",
              "      <th>BMI</th>\n",
              "      <th>Age</th>\n",
              "    </tr>\n",
              "  </thead>\n",
              "  <tbody>\n",
              "    <tr>\n",
              "      <th>0</th>\n",
              "      <td>-2.646342e-17</td>\n",
              "      <td>0.000000</td>\n",
              "      <td>-3.307927e-18</td>\n",
              "      <td>-1.323171e-17</td>\n",
              "      <td>8.269818e-18</td>\n",
              "      <td>-3.307927e-18</td>\n",
              "    </tr>\n",
              "    <tr>\n",
              "      <th>1</th>\n",
              "      <td>1.000932e+00</td>\n",
              "      <td>1.000932</td>\n",
              "      <td>1.000932e+00</td>\n",
              "      <td>1.000932e+00</td>\n",
              "      <td>1.000932e+00</td>\n",
              "      <td>1.000932e+00</td>\n",
              "    </tr>\n",
              "  </tbody>\n",
              "</table>\n",
              "</div>\n",
              "      <button class=\"colab-df-convert\" onclick=\"convertToInteractive('df-7c388655-0420-43ad-9d0a-e2cd13941503')\"\n",
              "              title=\"Convert this dataframe to an interactive table.\"\n",
              "              style=\"display:none;\">\n",
              "        \n",
              "  <svg xmlns=\"http://www.w3.org/2000/svg\" height=\"24px\"viewBox=\"0 0 24 24\"\n",
              "       width=\"24px\">\n",
              "    <path d=\"M0 0h24v24H0V0z\" fill=\"none\"/>\n",
              "    <path d=\"M18.56 5.44l.94 2.06.94-2.06 2.06-.94-2.06-.94-.94-2.06-.94 2.06-2.06.94zm-11 1L8.5 8.5l.94-2.06 2.06-.94-2.06-.94L8.5 2.5l-.94 2.06-2.06.94zm10 10l.94 2.06.94-2.06 2.06-.94-2.06-.94-.94-2.06-.94 2.06-2.06.94z\"/><path d=\"M17.41 7.96l-1.37-1.37c-.4-.4-.92-.59-1.43-.59-.52 0-1.04.2-1.43.59L10.3 9.45l-7.72 7.72c-.78.78-.78 2.05 0 2.83L4 21.41c.39.39.9.59 1.41.59.51 0 1.02-.2 1.41-.59l7.78-7.78 2.81-2.81c.8-.78.8-2.07 0-2.86zM5.41 20L4 18.59l7.72-7.72 1.47 1.35L5.41 20z\"/>\n",
              "  </svg>\n",
              "      </button>\n",
              "      \n",
              "  <style>\n",
              "    .colab-df-container {\n",
              "      display:flex;\n",
              "      flex-wrap:wrap;\n",
              "      gap: 12px;\n",
              "    }\n",
              "\n",
              "    .colab-df-convert {\n",
              "      background-color: #E8F0FE;\n",
              "      border: none;\n",
              "      border-radius: 50%;\n",
              "      cursor: pointer;\n",
              "      display: none;\n",
              "      fill: #1967D2;\n",
              "      height: 32px;\n",
              "      padding: 0 0 0 0;\n",
              "      width: 32px;\n",
              "    }\n",
              "\n",
              "    .colab-df-convert:hover {\n",
              "      background-color: #E2EBFA;\n",
              "      box-shadow: 0px 1px 2px rgba(60, 64, 67, 0.3), 0px 1px 3px 1px rgba(60, 64, 67, 0.15);\n",
              "      fill: #174EA6;\n",
              "    }\n",
              "\n",
              "    [theme=dark] .colab-df-convert {\n",
              "      background-color: #3B4455;\n",
              "      fill: #D2E3FC;\n",
              "    }\n",
              "\n",
              "    [theme=dark] .colab-df-convert:hover {\n",
              "      background-color: #434B5C;\n",
              "      box-shadow: 0px 1px 3px 1px rgba(0, 0, 0, 0.15);\n",
              "      filter: drop-shadow(0px 1px 2px rgba(0, 0, 0, 0.3));\n",
              "      fill: #FFFFFF;\n",
              "    }\n",
              "  </style>\n",
              "\n",
              "      <script>\n",
              "        const buttonEl =\n",
              "          document.querySelector('#df-7c388655-0420-43ad-9d0a-e2cd13941503 button.colab-df-convert');\n",
              "        buttonEl.style.display =\n",
              "          google.colab.kernel.accessAllowed ? 'block' : 'none';\n",
              "\n",
              "        async function convertToInteractive(key) {\n",
              "          const element = document.querySelector('#df-7c388655-0420-43ad-9d0a-e2cd13941503');\n",
              "          const dataTable =\n",
              "            await google.colab.kernel.invokeFunction('convertToInteractive',\n",
              "                                                     [key], {});\n",
              "          if (!dataTable) return;\n",
              "\n",
              "          const docLinkHtml = 'Like what you see? Visit the ' +\n",
              "            '<a target=\"_blank\" href=https://colab.research.google.com/notebooks/data_table.ipynb>data table notebook</a>'\n",
              "            + ' to learn more about interactive tables.';\n",
              "          element.innerHTML = '';\n",
              "          dataTable['output_type'] = 'display_data';\n",
              "          await google.colab.output.renderOutput(dataTable, element);\n",
              "          const docLink = document.createElement('div');\n",
              "          docLink.innerHTML = docLinkHtml;\n",
              "          element.appendChild(docLink);\n",
              "        }\n",
              "      </script>\n",
              "    </div>\n",
              "  </div>\n",
              "  "
            ]
          },
          "metadata": {},
          "execution_count": 334
        }
      ]
    },
    {
      "cell_type": "markdown",
      "source": [
        "A média sé quase 0 e o st dev está próximo de 1 para a escala padrão\n",
        "do min_max_scalar.\n",
        "\n",
        "os dados irão variar de 0 a 1 ou -1 a 1.\n",
        "\n",
        "Geralmente, o escalonamento é feito nos dados de treinamento separadamente, isso é feito para garantir que não haja overfit."
      ],
      "metadata": {
        "id": "u4fha8zK1SdY"
      }
    },
    {
      "cell_type": "markdown",
      "source": [
        "Aplicando os modelos de MachineLearning"
      ],
      "metadata": {
        "id": "dDVvQ5VK7dPT"
      }
    },
    {
      "cell_type": "markdown",
      "source": [
        "Modelo de Regressão logistica \"Logistic Regression\""
      ],
      "metadata": {
        "id": "dHZ2i4MY9g6a"
      }
    },
    {
      "cell_type": "code",
      "source": [
        "lrmodel = LogisticRegression()\n",
        "\n",
        "lrmodel.fit(X_train,y_train)\n",
        "\n",
        "lr_predict = lrmodel.predict(X_test)"
      ],
      "metadata": {
        "id": "zlKuwCe77iQS"
      },
      "execution_count": 335,
      "outputs": []
    },
    {
      "cell_type": "code",
      "source": [
        "print(classification_report(y_test,lr_predict))"
      ],
      "metadata": {
        "colab": {
          "base_uri": "https://localhost:8080/"
        },
        "id": "FYKAU_N27o8K",
        "outputId": "2bb5b074-9760-4edb-c9f9-c04480c89e34"
      },
      "execution_count": 336,
      "outputs": [
        {
          "output_type": "stream",
          "name": "stdout",
          "text": [
            "              precision    recall  f1-score   support\n",
            "\n",
            "           0       0.78      0.79      0.79       151\n",
            "           1       0.60      0.59      0.59        80\n",
            "\n",
            "    accuracy                           0.72       231\n",
            "   macro avg       0.69      0.69      0.69       231\n",
            "weighted avg       0.72      0.72      0.72       231\n",
            "\n"
          ]
        }
      ]
    },
    {
      "cell_type": "code",
      "source": [
        "con_mat = confusion_matrix(y_test,lr_predict)\n",
        "plt.figure(figsize=(14,4)) \n",
        "plt.subplot(1,2,1)\n",
        "sns.heatmap(con_mat/np.sum(con_mat)*100,annot =True)\n",
        "plt.title('Confusion Matrix')\n",
        "plt.xlabel('Predicted Class')\n",
        "plt.ylabel('Actual Class')\n",
        "\n",
        "plt.subplot(1,2,2)\n",
        "sns.heatmap(pd.DataFrame(classification_report(y_test,lr_predict,output_dict=True)).T.iloc[:,:-1], annot = True)\n",
        "\n",
        "plt.show()"
      ],
      "metadata": {
        "colab": {
          "base_uri": "https://localhost:8080/",
          "height": 295
        },
        "id": "DdERAffB7rQC",
        "outputId": "cd4abda9-43c0-4e09-9e7e-dff4aa8fef08"
      },
      "execution_count": 337,
      "outputs": [
        {
          "output_type": "display_data",
          "data": {
            "text/plain": [
              "<Figure size 1008x288 with 4 Axes>"
            ],
            "image/png": "[encoded data removed]"
          },
          "metadata": {}
        }
      ]
    },
    {
      "cell_type": "markdown",
      "source": [
        "modelo Decision Trees\n"
      ],
      "metadata": {
        "id": "7KtewBUb99GS"
      }
    },
    {
      "cell_type": "code",
      "source": [
        "dt= DecisionTreeClassifier()\n",
        "\n",
        "dt.fit(X_train,y_train)\n",
        "\n",
        "pred_dt = dt.predict(X_test)"
      ],
      "metadata": {
        "id": "Vrbwpgcu-CAp"
      },
      "execution_count": 338,
      "outputs": []
    },
    {
      "cell_type": "code",
      "source": [
        "print(classification_report(y_test,pred_dt))\n",
        "#print(confusion_matrix(y_test,pred_dt))"
      ],
      "metadata": {
        "colab": {
          "base_uri": "https://localhost:8080/"
        },
        "id": "5V2cfkPo-Fbp",
        "outputId": "44afcfed-ad78-4d99-b02d-143e9eb62e91"
      },
      "execution_count": 339,
      "outputs": [
        {
          "output_type": "stream",
          "name": "stdout",
          "text": [
            "              precision    recall  f1-score   support\n",
            "\n",
            "           0       0.76      0.72      0.74       151\n",
            "           1       0.52      0.57      0.54        80\n",
            "\n",
            "    accuracy                           0.67       231\n",
            "   macro avg       0.64      0.65      0.64       231\n",
            "weighted avg       0.68      0.67      0.67       231\n",
            "\n"
          ]
        }
      ]
    },
    {
      "cell_type": "code",
      "source": [
        "con_mat = confusion_matrix(y_test,pred_dt)\n",
        "plt.figure(figsize=(14,4)) \n",
        "plt.subplot(1,2,1)\n",
        "sns.heatmap(con_mat/np.sum(con_mat)*100,annot =True)\n",
        "plt.title('Confusion Matrix')\n",
        "plt.xlabel('Predicted Class')\n",
        "plt.ylabel('Actual Class')\n",
        "\n",
        "plt.subplot(1,2,2)\n",
        "sns.heatmap(pd.DataFrame(classification_report(y_test,pred_dt,output_dict=True)).T.iloc[:,:-1], annot = True)\n",
        "\n",
        "plt.show()"
      ],
      "metadata": {
        "colab": {
          "base_uri": "https://localhost:8080/",
          "height": 295
        },
        "id": "Gn5TEggZ-HbJ",
        "outputId": "21d67e44-51cc-4a49-fca4-2f63c769a5b8"
      },
      "execution_count": 340,
      "outputs": [
        {
          "output_type": "display_data",
          "data": {
            "text/plain": [
              "<Figure size 1008x288 with 4 Axes>"
            ],
            "image/png": "[encoded data removed]"
          },
          "metadata": {}
        }
      ]
    },
    {
      "cell_type": "markdown",
      "source": [
        "o modelo que possue uma melhor accuracy entre os dois é a Regressão logistica"
      ],
      "metadata": {
        "id": "CRPiaYntAaCY"
      }
    }
  ]
}